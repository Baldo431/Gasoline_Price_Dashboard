{
 "cells": [
  {
   "cell_type": "code",
   "execution_count": 70,
   "id": "e7118f5c-e77d-47cb-aec3-f5f9020e7ff7",
   "metadata": {},
   "outputs": [],
   "source": [
    "# Import Dependencies\n",
    "import os\n",
    "import pandas as pd\n",
    "import matplotlib.pyplot as plt\n",
    "import seaborn as sns\n",
    "import datetime\n",
    "import tweepy\n",
    "\n",
    "from config import consumer_key\n",
    "from config import consumer_secret\n",
    "from config import access_token\n",
    "from config import access_token_secret\n",
    "from config import token"
   ]
  },
  {
   "cell_type": "code",
   "execution_count": 71,
   "id": "720f0991-4418-4bec-9fa4-eafd3bd33ebb",
   "metadata": {},
   "outputs": [],
   "source": [
    "# API Keys\n",
    "consumer_key = consumer_key\n",
    "consumer_secret = consumer_secret\n",
    "access_token = access_token\n",
    "access_token_secret = access_token_secret\n",
    "token = token\n",
    "\n",
    "client = tweepy.Client(bearer_token=token)\n",
    "query = 'gas oil -is:retweet'"
   ]
  },
  {
   "cell_type": "code",
   "execution_count": 35,
   "id": "0eef3191-f4d4-4ec7-b100-c4bd528c0598",
   "metadata": {},
   "outputs": [
    {
     "data": {
      "text/plain": [
       "1610"
      ]
     },
     "execution_count": 35,
     "metadata": {},
     "output_type": "execute_result"
    }
   ],
   "source": [
    "start = '2022-11-23T17:30:00.000Z'\n",
    "end = '2022-11-24T00:00:00.00Z'\n",
    "\n",
    "tweets_list = []\n",
    "\n",
    "tweets = tweepy.Paginator(client.search_recent_tweets, query=query,\n",
    "                              tweet_fields=['context_annotations', 'created_at'],\n",
    "                          start_time=start, \n",
    "                          end_time=end,\n",
    "                          max_results=100).flatten(limit=5000)\n",
    "\n",
    "for tweet in tweets:\n",
    "    tweets_list.append(tweet.text)\n",
    "    \n",
    "len(tweets_list)"
   ]
  },
  {
   "cell_type": "code",
   "execution_count": 37,
   "id": "11df6d82-4899-4790-b10b-2ce219b19bc5",
   "metadata": {},
   "outputs": [],
   "source": [
    "tweet_df = pd.DataFrame(tweets_list)\n",
    "tweet_df.columns = ['2022-11-23']\n",
    "tweet_df.to_csv('2022-11-23.csv', index=True) "
   ]
  },
  {
   "cell_type": "code",
   "execution_count": 38,
   "id": "8144a185-ff70-46a4-96cb-f872b3bb816e",
   "metadata": {},
   "outputs": [
    {
     "data": {
      "text/plain": [
       "4838"
      ]
     },
     "execution_count": 38,
     "metadata": {},
     "output_type": "execute_result"
    }
   ],
   "source": [
    "start = '2022-11-24T00:00:00.000Z'\n",
    "end = '2022-11-25T00:00:00.00Z'\n",
    "\n",
    "tweets_list1 = []\n",
    "\n",
    "tweets = tweepy.Paginator(client.search_recent_tweets, query=query,\n",
    "                              tweet_fields=['context_annotations', 'created_at'],\n",
    "                          start_time=start, \n",
    "                          end_time=end,\n",
    "                          max_results=100).flatten(limit=5000)\n",
    "\n",
    "for tweet in tweets:\n",
    "    tweets_list1.append(tweet.text)\n",
    "    \n",
    "len(tweets_list1)"
   ]
  },
  {
   "cell_type": "code",
   "execution_count": 45,
   "id": "7cfb49c6-9b31-41c6-be9f-0db92f87fdfb",
   "metadata": {},
   "outputs": [
    {
     "data": {
      "text/plain": [
       "4802"
      ]
     },
     "execution_count": 45,
     "metadata": {},
     "output_type": "execute_result"
    }
   ],
   "source": [
    "tweet1_df = pd.DataFrame(tweets_list1)\n",
    "tweet1_df.columns = ['2022-11-24']\n",
    "tweet1_df = tweet1_df.drop_duplicates()\n",
    "tweet1_df.to_csv('2022-11-24.csv', index=True) \n",
    "len(tweet1_df)"
   ]
  },
  {
   "cell_type": "code",
   "execution_count": 46,
   "id": "ed2ff262-ddec-41e8-9b7d-6daea15d1283",
   "metadata": {},
   "outputs": [
    {
     "data": {
      "text/plain": [
       "4265"
      ]
     },
     "execution_count": 46,
     "metadata": {},
     "output_type": "execute_result"
    }
   ],
   "source": [
    "start = '2022-11-25T00:00:00.000Z'\n",
    "end = '2022-11-26T00:00:00.00Z'\n",
    "\n",
    "tweets_list2 = []\n",
    "\n",
    "tweets = tweepy.Paginator(client.search_recent_tweets, query=query,\n",
    "                              tweet_fields=['context_annotations', 'created_at'],\n",
    "                          start_time=start, \n",
    "                          end_time=end,\n",
    "                          max_results=100).flatten(limit=5000)\n",
    "\n",
    "for tweet in tweets:\n",
    "    tweets_list2.append(tweet.text)\n",
    "    \n",
    "len(tweets_list2)"
   ]
  },
  {
   "cell_type": "code",
   "execution_count": 47,
   "id": "5c83febe-d4a0-48c5-8085-d9a0b6c12a19",
   "metadata": {},
   "outputs": [
    {
     "data": {
      "text/plain": [
       "4215"
      ]
     },
     "execution_count": 47,
     "metadata": {},
     "output_type": "execute_result"
    }
   ],
   "source": [
    "tweet2_df = pd.DataFrame(tweets_list2)\n",
    "tweet2_df.columns = ['2022-11-25']\n",
    "tweet2_df = tweet2_df.drop_duplicates()\n",
    "tweet2_df.to_csv('2022-11-25.csv', index=True) \n",
    "len(tweet2_df)"
   ]
  },
  {
   "cell_type": "code",
   "execution_count": 52,
   "id": "c8fe68cc-7838-4a84-9be1-a783cc3c4164",
   "metadata": {},
   "outputs": [
    {
     "data": {
      "text/plain": [
       "3847"
      ]
     },
     "execution_count": 52,
     "metadata": {},
     "output_type": "execute_result"
    }
   ],
   "source": [
    "start = '2022-11-26T00:00:00.000Z'\n",
    "end = '2022-11-27T00:00:00.00Z'\n",
    "\n",
    "tweets_list3 = []\n",
    "\n",
    "tweets = tweepy.Paginator(client.search_recent_tweets, query=query,\n",
    "                              tweet_fields=['context_annotations', 'created_at'],\n",
    "                          start_time=start, \n",
    "                          end_time=end,\n",
    "                          max_results=100).flatten(limit=5000)\n",
    "\n",
    "for tweet in tweets:\n",
    "    tweets_list3.append(tweet.text)\n",
    "    \n",
    "len(tweets_list3)"
   ]
  },
  {
   "cell_type": "code",
   "execution_count": 53,
   "id": "88574069-71b8-4ab3-8d9f-2855b2f3dc3d",
   "metadata": {},
   "outputs": [
    {
     "data": {
      "text/plain": [
       "3809"
      ]
     },
     "execution_count": 53,
     "metadata": {},
     "output_type": "execute_result"
    }
   ],
   "source": [
    "tweet3_df = pd.DataFrame(tweets_list3)\n",
    "tweet3_df.columns = ['2022-11-26']\n",
    "tweet3_df = tweet3_df.drop_duplicates()\n",
    "tweet3_df.to_csv('2022-11-26.csv', index=True) \n",
    "len(tweet3_df)"
   ]
  },
  {
   "cell_type": "code",
   "execution_count": 54,
   "id": "0099d7b2-f066-4e49-bc56-8749cd0b7174",
   "metadata": {},
   "outputs": [
    {
     "data": {
      "text/plain": [
       "3884"
      ]
     },
     "execution_count": 54,
     "metadata": {},
     "output_type": "execute_result"
    }
   ],
   "source": [
    "start = '2022-11-27T00:00:00.000Z'\n",
    "end = '2022-11-28T00:00:00.00Z'\n",
    "\n",
    "tweets_list4 = []\n",
    "\n",
    "tweets = tweepy.Paginator(client.search_recent_tweets, query=query,\n",
    "                              tweet_fields=['context_annotations', 'created_at'],\n",
    "                          start_time=start, \n",
    "                          end_time=end,\n",
    "                          max_results=100).flatten(limit=5000)\n",
    "\n",
    "for tweet in tweets:\n",
    "    tweets_list4.append(tweet.text)\n",
    "    \n",
    "len(tweets_list4)"
   ]
  },
  {
   "cell_type": "code",
   "execution_count": 55,
   "id": "a345c425-66a1-4b11-acca-e380febabd1d",
   "metadata": {},
   "outputs": [
    {
     "data": {
      "text/plain": [
       "3859"
      ]
     },
     "execution_count": 55,
     "metadata": {},
     "output_type": "execute_result"
    }
   ],
   "source": [
    "tweet4_df = pd.DataFrame(tweets_list4)\n",
    "tweet4_df.columns = ['2022-11-27']\n",
    "tweet4_df = tweet4_df.drop_duplicates()\n",
    "tweet4_df.to_csv('2022-11-27.csv', index=True) \n",
    "len(tweet4_df)"
   ]
  },
  {
   "cell_type": "code",
   "execution_count": 72,
   "id": "6ce75a19-7bb2-4e45-925b-1f5ea5ad28a1",
   "metadata": {},
   "outputs": [
    {
     "data": {
      "text/plain": [
       "5071"
      ]
     },
     "execution_count": 72,
     "metadata": {},
     "output_type": "execute_result"
    }
   ],
   "source": [
    "start = '2022-11-28T00:00:00.000Z'\n",
    "end = '2022-11-29T00:00:00.00Z'\n",
    "\n",
    "tweets_list5 = []\n",
    "\n",
    "tweets = tweepy.Paginator(client.search_recent_tweets, query=query,\n",
    "                              tweet_fields=['context_annotations', 'created_at'],\n",
    "                          start_time=start, \n",
    "                          end_time=end,\n",
    "                          max_results=100).flatten(limit=10000)\n",
    "\n",
    "for tweet in tweets:\n",
    "    tweets_list5.append(tweet.text)\n",
    "    \n",
    "len(tweets_list5)"
   ]
  },
  {
   "cell_type": "code",
   "execution_count": 73,
   "id": "55f4bd35-dbd7-4cd6-9e35-5c007c2e7841",
   "metadata": {},
   "outputs": [
    {
     "data": {
      "text/plain": [
       "5034"
      ]
     },
     "execution_count": 73,
     "metadata": {},
     "output_type": "execute_result"
    }
   ],
   "source": [
    "tweet5_df = pd.DataFrame(tweets_list5)\n",
    "tweet5_df.columns = ['2022-11-28']\n",
    "tweet5_df = tweet5_df.drop_duplicates()\n",
    "tweet5_df.to_csv('2022-11-28.csv', index=True) \n",
    "len(tweet5_df)"
   ]
  },
  {
   "cell_type": "code",
   "execution_count": 74,
   "id": "5ce5be2d-b449-442e-a005-9c809c57ea4a",
   "metadata": {},
   "outputs": [
    {
     "data": {
      "text/plain": [
       "6369"
      ]
     },
     "execution_count": 74,
     "metadata": {},
     "output_type": "execute_result"
    }
   ],
   "source": [
    "start = '2022-11-29T00:00:00.000Z'\n",
    "end = '2022-11-30T00:00:00.00Z'\n",
    "\n",
    "tweets_list6 = []\n",
    "\n",
    "tweets = tweepy.Paginator(client.search_recent_tweets, query=query,\n",
    "                              tweet_fields=['context_annotations', 'created_at'],\n",
    "                          start_time=start, \n",
    "                          end_time=end,\n",
    "                          max_results=100).flatten(limit=10000)\n",
    "\n",
    "for tweet in tweets:\n",
    "    tweets_list6.append(tweet.text)\n",
    "    \n",
    "len(tweets_list6)"
   ]
  },
  {
   "cell_type": "code",
   "execution_count": 75,
   "id": "61a42476-597b-4ebc-b3d6-0b2696e5d871",
   "metadata": {},
   "outputs": [
    {
     "data": {
      "text/plain": [
       "6296"
      ]
     },
     "execution_count": 75,
     "metadata": {},
     "output_type": "execute_result"
    }
   ],
   "source": [
    "tweet6_df = pd.DataFrame(tweets_list6)\n",
    "tweet6_df.columns = ['2022-11-29']\n",
    "tweet6_df = tweet6_df.drop_duplicates()\n",
    "tweet6_df.to_csv('2022-11-29.csv', index=True) \n",
    "len(tweet6_df)"
   ]
  },
  {
   "cell_type": "code",
   "execution_count": 83,
   "id": "a3ee2bfb-1905-4e8d-b941-4cd44a04257a",
   "metadata": {},
   "outputs": [],
   "source": [
    "all_tweets = tweet1_df.join([tweet2_df, tweet3_df, tweet4_df, tweet5_df, tweet6_df], how='outer')\n",
    "# all_tweets = all_tweets.dropna()"
   ]
  },
  {
   "cell_type": "code",
   "execution_count": 85,
   "id": "adb5691c-1c2a-43f6-a9a6-e105544f40c7",
   "metadata": {},
   "outputs": [],
   "source": [
    "all_tweets.to_csv('tweets.csv')"
   ]
  },
  {
   "cell_type": "code",
   "execution_count": 82,
   "id": "e7b73e8a-a405-4b03-aba4-987dba4575f5",
   "metadata": {},
   "outputs": [
    {
     "data": {
      "text/html": [
       "<div>\n",
       "<style scoped>\n",
       "    .dataframe tbody tr th:only-of-type {\n",
       "        vertical-align: middle;\n",
       "    }\n",
       "\n",
       "    .dataframe tbody tr th {\n",
       "        vertical-align: top;\n",
       "    }\n",
       "\n",
       "    .dataframe thead th {\n",
       "        text-align: right;\n",
       "    }\n",
       "</style>\n",
       "<table border=\"1\" class=\"dataframe\">\n",
       "  <thead>\n",
       "    <tr style=\"text-align: right;\">\n",
       "      <th></th>\n",
       "      <th>2022-11-24</th>\n",
       "      <th>2022-11-25</th>\n",
       "      <th>2022-11-26</th>\n",
       "      <th>2022-11-27</th>\n",
       "      <th>2022-11-28</th>\n",
       "      <th>2022-11-29</th>\n",
       "    </tr>\n",
       "  </thead>\n",
       "  <tbody>\n",
       "    <tr>\n",
       "      <th>0</th>\n",
       "      <td>@BellaWallerstei They have been paying oil and...</td>\n",
       "      <td>@TrainerGonzo @Belinda71555585 It's that easy ...</td>\n",
       "      <td>@HouseGOP They tried to stick the gas price hi...</td>\n",
       "      <td>@GilHough @KamalaHarris https://t.co/LBgWDBW9xs</td>\n",
       "      <td>@ChrisMartzWX For well over 40 years, I have p...</td>\n",
       "      <td>@POTUS Except that gas prices were on the rise...</td>\n",
       "    </tr>\n",
       "    <tr>\n",
       "      <th>1</th>\n",
       "      <td>@BladeoftheS 3 The major difference between UK...</td>\n",
       "      <td>@davidmweissman Clueless! Right he inherited e...</td>\n",
       "      <td>@AnnieForTruth Yep. I remember when an attenda...</td>\n",
       "      <td>@NikkiHaley I agree use our own oil and coal a...</td>\n",
       "      <td>@WhiteHouse His executive orders on the energy...</td>\n",
       "      <td>@robreiner You really need help. Why are you s...</td>\n",
       "    </tr>\n",
       "    <tr>\n",
       "      <th>2</th>\n",
       "      <td>¡Oil &amp;amp; Gas Reporter está disponible! https...</td>\n",
       "      <td>@laurenboebert Magic money? You mean from the ...</td>\n",
       "      <td>@RBReich -\\n...and the NATO Supremacists said,...</td>\n",
       "      <td>Nothing is being offered near Utah’s oil and g...</td>\n",
       "      <td>@manuel_rdgn @SEGOB_mx @adan_augusto @calderon...</td>\n",
       "      <td>TCS is a proud sponsor of the Oil &amp;amp; Gatsby...</td>\n",
       "    </tr>\n",
       "    <tr>\n",
       "      <th>3</th>\n",
       "      <td>@binnahar85 Europe wants to boycott Qatar? Are...</td>\n",
       "      <td>@thetruthsucks12 @haliwell51 @gmbutts No maybe...</td>\n",
       "      <td>@Princemoye1 I thought its about those that ki...</td>\n",
       "      <td>@Scott19490 @isaiahrmartin Yeah because relian...</td>\n",
       "      <td>rtr: U.S. seeks to limit flaring and methane l...</td>\n",
       "      <td>Should California tax oil profits? Gas spike h...</td>\n",
       "    </tr>\n",
       "    <tr>\n",
       "      <th>4</th>\n",
       "      <td>@TheoFleury14 This was always about $$ and the...</td>\n",
       "      <td>You are full of it. You shut down our clean cr...</td>\n",
       "      <td>The big story. Proof that Westminster has been...</td>\n",
       "      <td>@RepBoebert Lauren Boebert’s income is almost ...</td>\n",
       "      <td>¡Oil &amp;amp; Gas Reporter está disponible! https...</td>\n",
       "      <td>This is a classic example of Washington corrup...</td>\n",
       "    </tr>\n",
       "    <tr>\n",
       "      <th>...</th>\n",
       "      <td>...</td>\n",
       "      <td>...</td>\n",
       "      <td>...</td>\n",
       "      <td>...</td>\n",
       "      <td>...</td>\n",
       "      <td>...</td>\n",
       "    </tr>\n",
       "    <tr>\n",
       "      <th>6364</th>\n",
       "      <td>NaN</td>\n",
       "      <td>NaN</td>\n",
       "      <td>NaN</td>\n",
       "      <td>NaN</td>\n",
       "      <td>NaN</td>\n",
       "      <td>Is Guyana Being Screwed By Exxon?\\n\\nhttps://t...</td>\n",
       "    </tr>\n",
       "    <tr>\n",
       "      <th>6365</th>\n",
       "      <td>NaN</td>\n",
       "      <td>NaN</td>\n",
       "      <td>NaN</td>\n",
       "      <td>NaN</td>\n",
       "      <td>NaN</td>\n",
       "      <td>NEITI: Nigeria Earned $741.48bn from Oil, Gas ...</td>\n",
       "    </tr>\n",
       "    <tr>\n",
       "      <th>6366</th>\n",
       "      <td>NaN</td>\n",
       "      <td>NaN</td>\n",
       "      <td>NaN</td>\n",
       "      <td>NaN</td>\n",
       "      <td>NaN</td>\n",
       "      <td>El diésel es el combustible más importante del...</td>\n",
       "    </tr>\n",
       "    <tr>\n",
       "      <th>6367</th>\n",
       "      <td>NaN</td>\n",
       "      <td>NaN</td>\n",
       "      <td>NaN</td>\n",
       "      <td>NaN</td>\n",
       "      <td>NaN</td>\n",
       "      <td>It's been a good week for millions of drivers ...</td>\n",
       "    </tr>\n",
       "    <tr>\n",
       "      <th>6368</th>\n",
       "      <td>NaN</td>\n",
       "      <td>NaN</td>\n",
       "      <td>NaN</td>\n",
       "      <td>NaN</td>\n",
       "      <td>NaN</td>\n",
       "      <td>The only way to actually lower gas prices? Hol...</td>\n",
       "    </tr>\n",
       "  </tbody>\n",
       "</table>\n",
       "<p>6334 rows × 6 columns</p>\n",
       "</div>"
      ],
      "text/plain": [
       "                                             2022-11-24  \\\n",
       "0     @BellaWallerstei They have been paying oil and...   \n",
       "1     @BladeoftheS 3 The major difference between UK...   \n",
       "2     ¡Oil &amp; Gas Reporter está disponible! https...   \n",
       "3     @binnahar85 Europe wants to boycott Qatar? Are...   \n",
       "4     @TheoFleury14 This was always about $$ and the...   \n",
       "...                                                 ...   \n",
       "6364                                                NaN   \n",
       "6365                                                NaN   \n",
       "6366                                                NaN   \n",
       "6367                                                NaN   \n",
       "6368                                                NaN   \n",
       "\n",
       "                                             2022-11-25  \\\n",
       "0     @TrainerGonzo @Belinda71555585 It's that easy ...   \n",
       "1     @davidmweissman Clueless! Right he inherited e...   \n",
       "2     @laurenboebert Magic money? You mean from the ...   \n",
       "3     @thetruthsucks12 @haliwell51 @gmbutts No maybe...   \n",
       "4     You are full of it. You shut down our clean cr...   \n",
       "...                                                 ...   \n",
       "6364                                                NaN   \n",
       "6365                                                NaN   \n",
       "6366                                                NaN   \n",
       "6367                                                NaN   \n",
       "6368                                                NaN   \n",
       "\n",
       "                                             2022-11-26  \\\n",
       "0     @HouseGOP They tried to stick the gas price hi...   \n",
       "1     @AnnieForTruth Yep. I remember when an attenda...   \n",
       "2     @RBReich -\\n...and the NATO Supremacists said,...   \n",
       "3     @Princemoye1 I thought its about those that ki...   \n",
       "4     The big story. Proof that Westminster has been...   \n",
       "...                                                 ...   \n",
       "6364                                                NaN   \n",
       "6365                                                NaN   \n",
       "6366                                                NaN   \n",
       "6367                                                NaN   \n",
       "6368                                                NaN   \n",
       "\n",
       "                                             2022-11-27  \\\n",
       "0       @GilHough @KamalaHarris https://t.co/LBgWDBW9xs   \n",
       "1     @NikkiHaley I agree use our own oil and coal a...   \n",
       "2     Nothing is being offered near Utah’s oil and g...   \n",
       "3     @Scott19490 @isaiahrmartin Yeah because relian...   \n",
       "4     @RepBoebert Lauren Boebert’s income is almost ...   \n",
       "...                                                 ...   \n",
       "6364                                                NaN   \n",
       "6365                                                NaN   \n",
       "6366                                                NaN   \n",
       "6367                                                NaN   \n",
       "6368                                                NaN   \n",
       "\n",
       "                                             2022-11-28  \\\n",
       "0     @ChrisMartzWX For well over 40 years, I have p...   \n",
       "1     @WhiteHouse His executive orders on the energy...   \n",
       "2     @manuel_rdgn @SEGOB_mx @adan_augusto @calderon...   \n",
       "3     rtr: U.S. seeks to limit flaring and methane l...   \n",
       "4     ¡Oil &amp; Gas Reporter está disponible! https...   \n",
       "...                                                 ...   \n",
       "6364                                                NaN   \n",
       "6365                                                NaN   \n",
       "6366                                                NaN   \n",
       "6367                                                NaN   \n",
       "6368                                                NaN   \n",
       "\n",
       "                                             2022-11-29  \n",
       "0     @POTUS Except that gas prices were on the rise...  \n",
       "1     @robreiner You really need help. Why are you s...  \n",
       "2     TCS is a proud sponsor of the Oil &amp; Gatsby...  \n",
       "3     Should California tax oil profits? Gas spike h...  \n",
       "4     This is a classic example of Washington corrup...  \n",
       "...                                                 ...  \n",
       "6364  Is Guyana Being Screwed By Exxon?\\n\\nhttps://t...  \n",
       "6365  NEITI: Nigeria Earned $741.48bn from Oil, Gas ...  \n",
       "6366  El diésel es el combustible más importante del...  \n",
       "6367  It's been a good week for millions of drivers ...  \n",
       "6368  The only way to actually lower gas prices? Hol...  \n",
       "\n",
       "[6334 rows x 6 columns]"
      ]
     },
     "execution_count": 82,
     "metadata": {},
     "output_type": "execute_result"
    }
   ],
   "source": [
    "all_tweets"
   ]
  },
  {
   "cell_type": "code",
   "execution_count": null,
   "id": "1290d2c2-0699-444c-966a-66e64300b7a5",
   "metadata": {},
   "outputs": [],
   "source": []
  }
 ],
 "metadata": {
  "kernelspec": {
   "display_name": "Python 3 (ipykernel)",
   "language": "python",
   "name": "python3"
  },
  "language_info": {
   "codemirror_mode": {
    "name": "ipython",
    "version": 3
   },
   "file_extension": ".py",
   "mimetype": "text/x-python",
   "name": "python",
   "nbconvert_exporter": "python",
   "pygments_lexer": "ipython3",
   "version": "3.8.13"
  }
 },
 "nbformat": 4,
 "nbformat_minor": 5
}
