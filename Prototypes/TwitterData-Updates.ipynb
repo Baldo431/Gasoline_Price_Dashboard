{
 "cells": [
  {
   "cell_type": "markdown",
   "id": "43c90799-20dc-42c5-ad87-aad20672d85f",
   "metadata": {},
   "source": [
    "# Twitter Data Updates"
   ]
  },
  {
   "cell_type": "markdown",
   "id": "fac6e746-f1bc-420e-8905-73b83f0c90ff",
   "metadata": {},
   "source": [
    "This Python code will be used to update and append the data sets created in `TwitterData-Start.ipynb` since we can only access the Twitter data of the last 7 days."
   ]
  },
  {
   "cell_type": "code",
   "execution_count": 51,
   "id": "7437e231-553a-4a9a-8744-1450e48c3836",
   "metadata": {},
   "outputs": [],
   "source": [
    "# Import Dependencies\n",
    "import os\n",
    "import pandas as pd\n",
    "import matplotlib.pyplot as plt\n",
    "import seaborn as sns\n",
    "import datetime\n",
    "import tweepy\n",
    "\n",
    "from config import consumer_key\n",
    "from config import consumer_secret\n",
    "from config import access_token\n",
    "from config import access_token_secret\n",
    "from config import token"
   ]
  },
  {
   "cell_type": "code",
   "execution_count": 52,
   "id": "57ba3499-9b24-471d-852c-ee540d5928ec",
   "metadata": {},
   "outputs": [],
   "source": [
    "# API Keys\n",
    "consumer_key = consumer_key\n",
    "consumer_secret = consumer_secret\n",
    "access_token = access_token\n",
    "access_token_secret = access_token_secret\n",
    "token = token"
   ]
  },
  {
   "cell_type": "markdown",
   "id": "96a13a5c-36ee-4b1e-95a3-78d34a9907a5",
   "metadata": {},
   "source": [
    "## Count of Gas & Oil Tweets"
   ]
  },
  {
   "cell_type": "code",
   "execution_count": 53,
   "id": "9c504cc6-4956-4154-9447-bdbd6c3555f7",
   "metadata": {},
   "outputs": [],
   "source": [
    "query = \"gas oil -is:retweet\"\n",
    "client = tweepy.Client(bearer_token=token)\n",
    "counts = client.get_recent_tweets_count(query=query, \n",
    "                                        granularity='day')"
   ]
  },
  {
   "cell_type": "code",
   "execution_count": 54,
   "id": "0ef9692c-4e0b-4bcf-9326-54c69887178c",
   "metadata": {},
   "outputs": [],
   "source": [
    "Lst = []\n",
    "# Dict = {}\n",
    "for i in counts.data:\n",
    "    Dict = {}\n",
    "    Dict['Day'] = str(i[\"start\"][0:10])\n",
    "    Dict['Tweet Count'] = i[\"tweet_count\"]\n",
    "    Lst.append(Dict)\n",
    "    # print(f'Day: ' + str(i[\"start\"][0:10]) + ', Tweet Count: ' + str(i[\"tweet_count\"]))"
   ]
  },
  {
   "cell_type": "code",
   "execution_count": 55,
   "id": "93c9ac59-ceef-4d46-8437-03a1341467ba",
   "metadata": {},
   "outputs": [],
   "source": [
    "df = pd.DataFrame(Lst)\n",
    "df = pd.DataFrame.from_dict(Lst)\n",
    "df = pd.DataFrame.from_records(Lst)\n",
    "# df.to_csv('tweet_count.csv', index=False) \n",
    "update_df = df.iloc[-2:-1]"
   ]
  },
  {
   "cell_type": "code",
   "execution_count": 56,
   "id": "b8ea6a35-f4c4-42bc-a6d2-9953f251d067",
   "metadata": {},
   "outputs": [
    {
     "data": {
      "text/html": [
       "<div>\n",
       "<style scoped>\n",
       "    .dataframe tbody tr th:only-of-type {\n",
       "        vertical-align: middle;\n",
       "    }\n",
       "\n",
       "    .dataframe tbody tr th {\n",
       "        vertical-align: top;\n",
       "    }\n",
       "\n",
       "    .dataframe thead th {\n",
       "        text-align: right;\n",
       "    }\n",
       "</style>\n",
       "<table border=\"1\" class=\"dataframe\">\n",
       "  <thead>\n",
       "    <tr style=\"text-align: right;\">\n",
       "      <th></th>\n",
       "      <th>Day</th>\n",
       "      <th>Tweet Count</th>\n",
       "    </tr>\n",
       "  </thead>\n",
       "  <tbody>\n",
       "    <tr>\n",
       "      <th>6</th>\n",
       "      <td>2022-11-30</td>\n",
       "      <td>7249</td>\n",
       "    </tr>\n",
       "  </tbody>\n",
       "</table>\n",
       "</div>"
      ],
      "text/plain": [
       "          Day  Tweet Count\n",
       "6  2022-11-30         7249"
      ]
     },
     "execution_count": 56,
     "metadata": {},
     "output_type": "execute_result"
    }
   ],
   "source": [
    "update_df"
   ]
  },
  {
   "cell_type": "code",
   "execution_count": 58,
   "id": "8dd9cea1-f1ea-4ca4-be76-529cb6bc6ba6",
   "metadata": {},
   "outputs": [],
   "source": [
    "update_df.to_csv('tweet_count.csv', mode='a', index=False, header=False)"
   ]
  },
  {
   "cell_type": "markdown",
   "id": "98efa75b-db5a-46e3-8e94-4e6d9f9bdecf",
   "metadata": {},
   "source": [
    "## Adding Recent Tweets"
   ]
  },
  {
   "cell_type": "code",
   "execution_count": 59,
   "id": "c9ac325c-1638-42dd-b94d-b1596478034e",
   "metadata": {},
   "outputs": [
    {
     "data": {
      "text/plain": [
       "7239"
      ]
     },
     "execution_count": 59,
     "metadata": {},
     "output_type": "execute_result"
    }
   ],
   "source": [
    "start = '2022-11-30T00:00:00.000Z'\n",
    "end = '2022-12-01T00:00:00.00Z'\n",
    "\n",
    "tweets_list = []\n",
    "\n",
    "tweets = tweepy.Paginator(client.search_recent_tweets, query=query,\n",
    "                              tweet_fields=['context_annotations', 'created_at'],\n",
    "                          start_time=start, \n",
    "                          end_time=end,\n",
    "                          max_results=100).flatten(limit=10000)\n",
    "\n",
    "for tweet in tweets:\n",
    "    tweets_list.append(tweet.text)\n",
    "    \n",
    "len(tweets_list)"
   ]
  },
  {
   "cell_type": "code",
   "execution_count": 60,
   "id": "59746bcf-e8e8-4370-8d30-1ee0ae380739",
   "metadata": {},
   "outputs": [
    {
     "data": {
      "text/plain": [
       "7090"
      ]
     },
     "execution_count": 60,
     "metadata": {},
     "output_type": "execute_result"
    }
   ],
   "source": [
    "tweet_df = pd.DataFrame(tweets_list)\n",
    "tweet_df.columns = ['2022-11-30']\n",
    "tweet_df = tweet_df.drop_duplicates()\n",
    "tweet_df.to_csv('2022-11-30.csv', index=True) \n",
    "len(tweet_df)"
   ]
  },
  {
   "cell_type": "code",
   "execution_count": 61,
   "id": "d44183af-f6ec-40a3-9474-763e0b78bdca",
   "metadata": {},
   "outputs": [],
   "source": [
    "all_tweets = pd.read_csv(\"./tweets.csv\")"
   ]
  },
  {
   "cell_type": "code",
   "execution_count": 62,
   "id": "5e72b22a-4443-484b-ab3a-a271464baf4c",
   "metadata": {},
   "outputs": [],
   "source": [
    "all_tweets = all_tweets.join(tweet_df, how='outer')\n",
    "# all_tweets = all_tweets.dropna()"
   ]
  },
  {
   "cell_type": "code",
   "execution_count": 63,
   "id": "51fcc530-69c3-4242-b469-2283b73f35ae",
   "metadata": {},
   "outputs": [
    {
     "data": {
      "text/html": [
       "<div>\n",
       "<style scoped>\n",
       "    .dataframe tbody tr th:only-of-type {\n",
       "        vertical-align: middle;\n",
       "    }\n",
       "\n",
       "    .dataframe tbody tr th {\n",
       "        vertical-align: top;\n",
       "    }\n",
       "\n",
       "    .dataframe thead th {\n",
       "        text-align: right;\n",
       "    }\n",
       "</style>\n",
       "<table border=\"1\" class=\"dataframe\">\n",
       "  <thead>\n",
       "    <tr style=\"text-align: right;\">\n",
       "      <th></th>\n",
       "      <th>2022-11-24</th>\n",
       "      <th>2022-11-25</th>\n",
       "      <th>2022-11-26</th>\n",
       "      <th>2022-11-27</th>\n",
       "      <th>2022-11-28</th>\n",
       "      <th>2022-11-29</th>\n",
       "      <th>2022-11-30</th>\n",
       "    </tr>\n",
       "  </thead>\n",
       "  <tbody>\n",
       "    <tr>\n",
       "      <th>0</th>\n",
       "      <td>@BellaWallerstei They have been paying oil and...</td>\n",
       "      <td>@TrainerGonzo @Belinda71555585 It's that easy ...</td>\n",
       "      <td>@HouseGOP They tried to stick the gas price hi...</td>\n",
       "      <td>@GilHough @KamalaHarris https://t.co/LBgWDBW9xs</td>\n",
       "      <td>@ChrisMartzWX For well over 40 years, I have p...</td>\n",
       "      <td>@POTUS Except that gas prices were on the rise...</td>\n",
       "      <td>@FinancialReview simply nonsense. Don't let th...</td>\n",
       "    </tr>\n",
       "    <tr>\n",
       "      <th>1</th>\n",
       "      <td>@BladeoftheS 3 The major difference between UK...</td>\n",
       "      <td>@davidmweissman Clueless! Right he inherited e...</td>\n",
       "      <td>@AnnieForTruth Yep. I remember when an attenda...</td>\n",
       "      <td>@NikkiHaley I agree use our own oil and coal a...</td>\n",
       "      <td>@WhiteHouse His executive orders on the energy...</td>\n",
       "      <td>@robreiner You really need help. Why are you s...</td>\n",
       "      <td>@GavinNewsom You could end the gas tax, but yo...</td>\n",
       "    </tr>\n",
       "    <tr>\n",
       "      <th>2</th>\n",
       "      <td>¡Oil &amp;amp; Gas Reporter está disponible! https...</td>\n",
       "      <td>@laurenboebert Magic money? You mean from the ...</td>\n",
       "      <td>@RBReich -\\n...and the NATO Supremacists said,...</td>\n",
       "      <td>Nothing is being offered near Utah’s oil and g...</td>\n",
       "      <td>@manuel_rdgn @SEGOB_mx @adan_augusto @calderon...</td>\n",
       "      <td>TCS is a proud sponsor of the Oil &amp;amp; Gatsby...</td>\n",
       "      <td>@POTUS Gas prices are down only because you ar...</td>\n",
       "    </tr>\n",
       "    <tr>\n",
       "      <th>3</th>\n",
       "      <td>@binnahar85 Europe wants to boycott Qatar? Are...</td>\n",
       "      <td>@thetruthsucks12 @haliwell51 @gmbutts No maybe...</td>\n",
       "      <td>@Princemoye1 I thought its about those that ki...</td>\n",
       "      <td>@Scott19490 @isaiahrmartin Yeah because relian...</td>\n",
       "      <td>rtr: U.S. seeks to limit flaring and methane l...</td>\n",
       "      <td>Should California tax oil profits? Gas spike h...</td>\n",
       "      <td>https://t.co/HEMuIIrFin Oil “Quality News Link...</td>\n",
       "    </tr>\n",
       "    <tr>\n",
       "      <th>4</th>\n",
       "      <td>@TheoFleury14 This was always about $$ and the...</td>\n",
       "      <td>You are full of it. You shut down our clean cr...</td>\n",
       "      <td>The big story. Proof that Westminster has been...</td>\n",
       "      <td>@RepBoebert Lauren Boebert’s income is almost ...</td>\n",
       "      <td>¡Oil &amp;amp; Gas Reporter está disponible! https...</td>\n",
       "      <td>This is a classic example of Washington corrup...</td>\n",
       "      <td>@SenatorLankford You do know that US is the la...</td>\n",
       "    </tr>\n",
       "    <tr>\n",
       "      <th>...</th>\n",
       "      <td>...</td>\n",
       "      <td>...</td>\n",
       "      <td>...</td>\n",
       "      <td>...</td>\n",
       "      <td>...</td>\n",
       "      <td>...</td>\n",
       "      <td>...</td>\n",
       "    </tr>\n",
       "    <tr>\n",
       "      <th>7234</th>\n",
       "      <td>NaN</td>\n",
       "      <td>NaN</td>\n",
       "      <td>NaN</td>\n",
       "      <td>NaN</td>\n",
       "      <td>NaN</td>\n",
       "      <td>NaN</td>\n",
       "      <td>Oil Refiners More Than Doubled Their CA Profit...</td>\n",
       "    </tr>\n",
       "    <tr>\n",
       "      <th>7235</th>\n",
       "      <td>NaN</td>\n",
       "      <td>NaN</td>\n",
       "      <td>NaN</td>\n",
       "      <td>NaN</td>\n",
       "      <td>NaN</td>\n",
       "      <td>NaN</td>\n",
       "      <td>Oil #and #Gas #Jobs in United States\\n- Progra...</td>\n",
       "    </tr>\n",
       "    <tr>\n",
       "      <th>7236</th>\n",
       "      <td>NaN</td>\n",
       "      <td>NaN</td>\n",
       "      <td>NaN</td>\n",
       "      <td>NaN</td>\n",
       "      <td>NaN</td>\n",
       "      <td>NaN</td>\n",
       "      <td>@HouseGOP @SteveScalise @RepBethVanDuyne US oi...</td>\n",
       "    </tr>\n",
       "    <tr>\n",
       "      <th>7237</th>\n",
       "      <td>NaN</td>\n",
       "      <td>NaN</td>\n",
       "      <td>NaN</td>\n",
       "      <td>NaN</td>\n",
       "      <td>NaN</td>\n",
       "      <td>NaN</td>\n",
       "      <td>The Interior Department on Monday proposed rul...</td>\n",
       "    </tr>\n",
       "    <tr>\n",
       "      <th>7238</th>\n",
       "      <td>NaN</td>\n",
       "      <td>NaN</td>\n",
       "      <td>NaN</td>\n",
       "      <td>NaN</td>\n",
       "      <td>NaN</td>\n",
       "      <td>NaN</td>\n",
       "      <td>@patfkauffman Gutting the oil and gas industry</td>\n",
       "    </tr>\n",
       "  </tbody>\n",
       "</table>\n",
       "<p>7227 rows × 7 columns</p>\n",
       "</div>"
      ],
      "text/plain": [
       "                                             2022-11-24  \\\n",
       "0     @BellaWallerstei They have been paying oil and...   \n",
       "1     @BladeoftheS 3 The major difference between UK...   \n",
       "2     ¡Oil &amp; Gas Reporter está disponible! https...   \n",
       "3     @binnahar85 Europe wants to boycott Qatar? Are...   \n",
       "4     @TheoFleury14 This was always about $$ and the...   \n",
       "...                                                 ...   \n",
       "7234                                                NaN   \n",
       "7235                                                NaN   \n",
       "7236                                                NaN   \n",
       "7237                                                NaN   \n",
       "7238                                                NaN   \n",
       "\n",
       "                                             2022-11-25  \\\n",
       "0     @TrainerGonzo @Belinda71555585 It's that easy ...   \n",
       "1     @davidmweissman Clueless! Right he inherited e...   \n",
       "2     @laurenboebert Magic money? You mean from the ...   \n",
       "3     @thetruthsucks12 @haliwell51 @gmbutts No maybe...   \n",
       "4     You are full of it. You shut down our clean cr...   \n",
       "...                                                 ...   \n",
       "7234                                                NaN   \n",
       "7235                                                NaN   \n",
       "7236                                                NaN   \n",
       "7237                                                NaN   \n",
       "7238                                                NaN   \n",
       "\n",
       "                                             2022-11-26  \\\n",
       "0     @HouseGOP They tried to stick the gas price hi...   \n",
       "1     @AnnieForTruth Yep. I remember when an attenda...   \n",
       "2     @RBReich -\\n...and the NATO Supremacists said,...   \n",
       "3     @Princemoye1 I thought its about those that ki...   \n",
       "4     The big story. Proof that Westminster has been...   \n",
       "...                                                 ...   \n",
       "7234                                                NaN   \n",
       "7235                                                NaN   \n",
       "7236                                                NaN   \n",
       "7237                                                NaN   \n",
       "7238                                                NaN   \n",
       "\n",
       "                                             2022-11-27  \\\n",
       "0       @GilHough @KamalaHarris https://t.co/LBgWDBW9xs   \n",
       "1     @NikkiHaley I agree use our own oil and coal a...   \n",
       "2     Nothing is being offered near Utah’s oil and g...   \n",
       "3     @Scott19490 @isaiahrmartin Yeah because relian...   \n",
       "4     @RepBoebert Lauren Boebert’s income is almost ...   \n",
       "...                                                 ...   \n",
       "7234                                                NaN   \n",
       "7235                                                NaN   \n",
       "7236                                                NaN   \n",
       "7237                                                NaN   \n",
       "7238                                                NaN   \n",
       "\n",
       "                                             2022-11-28  \\\n",
       "0     @ChrisMartzWX For well over 40 years, I have p...   \n",
       "1     @WhiteHouse His executive orders on the energy...   \n",
       "2     @manuel_rdgn @SEGOB_mx @adan_augusto @calderon...   \n",
       "3     rtr: U.S. seeks to limit flaring and methane l...   \n",
       "4     ¡Oil &amp; Gas Reporter está disponible! https...   \n",
       "...                                                 ...   \n",
       "7234                                                NaN   \n",
       "7235                                                NaN   \n",
       "7236                                                NaN   \n",
       "7237                                                NaN   \n",
       "7238                                                NaN   \n",
       "\n",
       "                                             2022-11-29  \\\n",
       "0     @POTUS Except that gas prices were on the rise...   \n",
       "1     @robreiner You really need help. Why are you s...   \n",
       "2     TCS is a proud sponsor of the Oil &amp; Gatsby...   \n",
       "3     Should California tax oil profits? Gas spike h...   \n",
       "4     This is a classic example of Washington corrup...   \n",
       "...                                                 ...   \n",
       "7234                                                NaN   \n",
       "7235                                                NaN   \n",
       "7236                                                NaN   \n",
       "7237                                                NaN   \n",
       "7238                                                NaN   \n",
       "\n",
       "                                             2022-11-30  \n",
       "0     @FinancialReview simply nonsense. Don't let th...  \n",
       "1     @GavinNewsom You could end the gas tax, but yo...  \n",
       "2     @POTUS Gas prices are down only because you ar...  \n",
       "3     https://t.co/HEMuIIrFin Oil “Quality News Link...  \n",
       "4     @SenatorLankford You do know that US is the la...  \n",
       "...                                                 ...  \n",
       "7234  Oil Refiners More Than Doubled Their CA Profit...  \n",
       "7235  Oil #and #Gas #Jobs in United States\\n- Progra...  \n",
       "7236  @HouseGOP @SteveScalise @RepBethVanDuyne US oi...  \n",
       "7237  The Interior Department on Monday proposed rul...  \n",
       "7238     @patfkauffman Gutting the oil and gas industry  \n",
       "\n",
       "[7227 rows x 7 columns]"
      ]
     },
     "execution_count": 63,
     "metadata": {},
     "output_type": "execute_result"
    }
   ],
   "source": [
    "all_tweets = all_tweets.drop(columns=['Unnamed: 0'])\n",
    "all_tweets"
   ]
  },
  {
   "cell_type": "code",
   "execution_count": 64,
   "id": "21b686c9-0c9c-4324-9137-0d8d189b8860",
   "metadata": {},
   "outputs": [],
   "source": [
    "all_tweets.to_csv('tweets.csv')"
   ]
  },
  {
   "cell_type": "code",
   "execution_count": null,
   "id": "68ca9f42-b563-4673-a168-824ae78cdfee",
   "metadata": {},
   "outputs": [],
   "source": []
  }
 ],
 "metadata": {
  "kernelspec": {
   "display_name": "Python 3 (ipykernel)",
   "language": "python",
   "name": "python3"
  },
  "language_info": {
   "codemirror_mode": {
    "name": "ipython",
    "version": 3
   },
   "file_extension": ".py",
   "mimetype": "text/x-python",
   "name": "python",
   "nbconvert_exporter": "python",
   "pygments_lexer": "ipython3",
   "version": "3.8.13"
  }
 },
 "nbformat": 4,
 "nbformat_minor": 5
}
