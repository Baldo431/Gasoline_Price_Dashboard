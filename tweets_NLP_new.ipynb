{
 "cells": [
  {
   "cell_type": "code",
   "execution_count": 44,
   "metadata": {},
   "outputs": [],
   "source": [
    "import os\n",
    "import re\n",
    "import pandas as pd\n",
    "import matplotlib.pyplot as plt\n",
    "from textblob import TextBlob\n"
   ]
  },
  {
   "cell_type": "code",
   "execution_count": 25,
   "metadata": {},
   "outputs": [],
   "source": [
    "# Changing Directory\n",
    "os.chdir('/Users/annettedblackburn/Desktop/Data_Analytics_Bootcamp/Module 20 - Final (Group) Project')"
   ]
  },
  {
   "cell_type": "code",
   "execution_count": 26,
   "metadata": {},
   "outputs": [
    {
     "data": {
      "text/plain": [
       "['.DS_Store',\n",
       " 'crude-oil-price.csv',\n",
       " 'twitter_NLP_json.ipynb',\n",
       " 'PET_PRI_GND_DCUS_NUS_W.csv',\n",
       " 'archive(2).zip',\n",
       " 'tweets_NLP_new.ipynb',\n",
       " 'archive(1).zip',\n",
       " 'twitter_NLP.ipynb',\n",
       " 'gas_oil_ML.ipynb',\n",
       " 'tweets_clean.csv',\n",
       " 'tweets_clean.json',\n",
       " 'gas_oil_LR_twitter_NLP.py',\n",
       " '.ipynb_checkpoints',\n",
       " 'gas-diesel-prices.csv']"
      ]
     },
     "execution_count": 26,
     "metadata": {},
     "output_type": "execute_result"
    }
   ],
   "source": [
    "os.listdir(os.curdir)"
   ]
  },
  {
   "cell_type": "markdown",
   "metadata": {},
   "source": [
    "### Description of Preliminary Data Preprocessing\n",
    "\n",
    "Using tweets from November 24, 2022 to December 5, 2022, the data are cleaned and subjectivity and polarity score columns are included."
   ]
  },
  {
   "cell_type": "markdown",
   "metadata": {},
   "source": [
    "### Description of Preliminary Feature Engineering and Preliminary Feature Selection\n",
    "\n",
    "To use natural language processing to characterize the sentiment of current tweets on gas prices (positive, neutral, or negative sentiment, ranging from -1.0 to 1.0)."
   ]
  },
  {
   "cell_type": "code",
   "execution_count": 27,
   "metadata": {},
   "outputs": [
    {
     "data": {
      "text/html": [
       "<div>\n",
       "<style scoped>\n",
       "    .dataframe tbody tr th:only-of-type {\n",
       "        vertical-align: middle;\n",
       "    }\n",
       "\n",
       "    .dataframe tbody tr th {\n",
       "        vertical-align: top;\n",
       "    }\n",
       "\n",
       "    .dataframe thead th {\n",
       "        text-align: right;\n",
       "    }\n",
       "</style>\n",
       "<table border=\"1\" class=\"dataframe\">\n",
       "  <thead>\n",
       "    <tr style=\"text-align: right;\">\n",
       "      <th></th>\n",
       "      <th>Unnamed: 0</th>\n",
       "      <th>2022-11-24</th>\n",
       "      <th>2022-11-25</th>\n",
       "      <th>2022-11-26</th>\n",
       "      <th>2022-11-27</th>\n",
       "      <th>2022-11-28</th>\n",
       "      <th>2022-11-29</th>\n",
       "      <th>2022-11-30</th>\n",
       "      <th>2022-12-01</th>\n",
       "      <th>2022-12-02</th>\n",
       "      <th>2022-12-03</th>\n",
       "      <th>2022-12-04</th>\n",
       "      <th>2022-12-05</th>\n",
       "    </tr>\n",
       "  </thead>\n",
       "  <tbody>\n",
       "    <tr>\n",
       "      <th>0</th>\n",
       "      <td>0</td>\n",
       "      <td>@BellaWallerstei They have been paying oil and...</td>\n",
       "      <td>@TrainerGonzo @Belinda71555585 It's that easy ...</td>\n",
       "      <td>@HouseGOP They tried to stick the gas price hi...</td>\n",
       "      <td>@GilHough @KamalaHarris https://t.co/LBgWDBW9xs</td>\n",
       "      <td>@ChrisMartzWX For well over 40 years, I have p...</td>\n",
       "      <td>@POTUS Except that gas prices were on the rise...</td>\n",
       "      <td>@FinancialReview simply nonsense. Don't let th...</td>\n",
       "      <td>@BBCNews You have a responsibility to explain ...</td>\n",
       "      <td>@GustavoBolivar Es una afrenta para la industr...</td>\n",
       "      <td>@SenateGOP Except the oil and gas companies do...</td>\n",
       "      <td>@BladeoftheS He thinks nurses shouldn’t get a ...</td>\n",
       "      <td>Just When We Thought King Coal Was a Pauper\\n#...</td>\n",
       "    </tr>\n",
       "    <tr>\n",
       "      <th>1</th>\n",
       "      <td>1</td>\n",
       "      <td>@BladeoftheS 3 The major difference between UK...</td>\n",
       "      <td>@davidmweissman Clueless! Right he inherited e...</td>\n",
       "      <td>@AnnieForTruth Yep. I remember when an attenda...</td>\n",
       "      <td>@NikkiHaley I agree use our own oil and coal a...</td>\n",
       "      <td>@WhiteHouse His executive orders on the energy...</td>\n",
       "      <td>@robreiner You really need help. Why are you s...</td>\n",
       "      <td>@GavinNewsom You could end the gas tax, but yo...</td>\n",
       "      <td>@Marmee33 https://t.co/MeXmoIOgc9</td>\n",
       "      <td>@JDCocchiarella Jack; I can answer that questi...</td>\n",
       "      <td>@GOP And Biden has created more jobs in 2 year...</td>\n",
       "      <td>@POTUS No thanks on your nuclear energy deal d...</td>\n",
       "      <td>Alberta officials withholding list of 100s of ...</td>\n",
       "    </tr>\n",
       "    <tr>\n",
       "      <th>2</th>\n",
       "      <td>2</td>\n",
       "      <td>¡Oil &amp;amp; Gas Reporter está disponible! https...</td>\n",
       "      <td>@laurenboebert Magic money? You mean from the ...</td>\n",
       "      <td>@RBReich -\\n...and the NATO Supremacists said,...</td>\n",
       "      <td>Nothing is being offered near Utah’s oil and g...</td>\n",
       "      <td>@manuel_rdgn @SEGOB_mx @adan_augusto @calderon...</td>\n",
       "      <td>TCS is a proud sponsor of the Oil &amp;amp; Gatsby...</td>\n",
       "      <td>@POTUS Gas prices are down only because you ar...</td>\n",
       "      <td>@Sadiksmart7 @mohamedamiin2 @Qatari You can't ...</td>\n",
       "      <td>@diegowainstein El colectivo trucho de feminis...</td>\n",
       "      <td>@SandyHasCandy @TomTSEC And somehow, in your b...</td>\n",
       "      <td>@Julesmerch @ABC Has nothing to do with oil, n...</td>\n",
       "      <td>@GavinNewsom Californians are the only state p...</td>\n",
       "    </tr>\n",
       "    <tr>\n",
       "      <th>3</th>\n",
       "      <td>3</td>\n",
       "      <td>@binnahar85 Europe wants to boycott Qatar? Are...</td>\n",
       "      <td>@thetruthsucks12 @haliwell51 @gmbutts No maybe...</td>\n",
       "      <td>@Princemoye1 I thought its about those that ki...</td>\n",
       "      <td>@Scott19490 @isaiahrmartin Yeah because relian...</td>\n",
       "      <td>rtr: U.S. seeks to limit flaring and methane l...</td>\n",
       "      <td>Should California tax oil profits? Gas spike h...</td>\n",
       "      <td>https://t.co/HEMuIIrFin Oil “Quality News Link...</td>\n",
       "      <td>¡Oil &amp;amp; Gas Reporter está disponible! https...</td>\n",
       "      <td>Cut off from Russian gas and oil imports, much...</td>\n",
       "      <td>@MichelleSteelCA If only our idiot Prime Minis...</td>\n",
       "      <td>¡Oil &amp;amp; Gas Reporter está disponible! https...</td>\n",
       "      <td>Two energy industry groups filed a lawsuit tod...</td>\n",
       "    </tr>\n",
       "    <tr>\n",
       "      <th>4</th>\n",
       "      <td>4</td>\n",
       "      <td>@TheoFleury14 This was always about $$ and the...</td>\n",
       "      <td>You are full of it. You shut down our clean cr...</td>\n",
       "      <td>The big story. Proof that Westminster has been...</td>\n",
       "      <td>@RepBoebert Lauren Boebert’s income is almost ...</td>\n",
       "      <td>¡Oil &amp;amp; Gas Reporter está disponible! https...</td>\n",
       "      <td>This is a classic example of Washington corrup...</td>\n",
       "      <td>@SenatorLankford You do know that US is the la...</td>\n",
       "      <td>#Gold #Silver and #Crypto update for 12/01/22 ...</td>\n",
       "      <td>¡Oil &amp;amp; Gas Reporter está disponible! https...</td>\n",
       "      <td>PUMP AMERICAN OIL/NG NOW TO SAVE THE US ECONOM...</td>\n",
       "      <td>Not to be that guy, but, this fossil fuel geop...</td>\n",
       "      <td>@GavinNewsom It's time for California to stop ...</td>\n",
       "    </tr>\n",
       "  </tbody>\n",
       "</table>\n",
       "</div>"
      ],
      "text/plain": [
       "   Unnamed: 0                                         2022-11-24  \\\n",
       "0           0  @BellaWallerstei They have been paying oil and...   \n",
       "1           1  @BladeoftheS 3 The major difference between UK...   \n",
       "2           2  ¡Oil &amp; Gas Reporter está disponible! https...   \n",
       "3           3  @binnahar85 Europe wants to boycott Qatar? Are...   \n",
       "4           4  @TheoFleury14 This was always about $$ and the...   \n",
       "\n",
       "                                          2022-11-25  \\\n",
       "0  @TrainerGonzo @Belinda71555585 It's that easy ...   \n",
       "1  @davidmweissman Clueless! Right he inherited e...   \n",
       "2  @laurenboebert Magic money? You mean from the ...   \n",
       "3  @thetruthsucks12 @haliwell51 @gmbutts No maybe...   \n",
       "4  You are full of it. You shut down our clean cr...   \n",
       "\n",
       "                                          2022-11-26  \\\n",
       "0  @HouseGOP They tried to stick the gas price hi...   \n",
       "1  @AnnieForTruth Yep. I remember when an attenda...   \n",
       "2  @RBReich -\\n...and the NATO Supremacists said,...   \n",
       "3  @Princemoye1 I thought its about those that ki...   \n",
       "4  The big story. Proof that Westminster has been...   \n",
       "\n",
       "                                          2022-11-27  \\\n",
       "0    @GilHough @KamalaHarris https://t.co/LBgWDBW9xs   \n",
       "1  @NikkiHaley I agree use our own oil and coal a...   \n",
       "2  Nothing is being offered near Utah’s oil and g...   \n",
       "3  @Scott19490 @isaiahrmartin Yeah because relian...   \n",
       "4  @RepBoebert Lauren Boebert’s income is almost ...   \n",
       "\n",
       "                                          2022-11-28  \\\n",
       "0  @ChrisMartzWX For well over 40 years, I have p...   \n",
       "1  @WhiteHouse His executive orders on the energy...   \n",
       "2  @manuel_rdgn @SEGOB_mx @adan_augusto @calderon...   \n",
       "3  rtr: U.S. seeks to limit flaring and methane l...   \n",
       "4  ¡Oil &amp; Gas Reporter está disponible! https...   \n",
       "\n",
       "                                          2022-11-29  \\\n",
       "0  @POTUS Except that gas prices were on the rise...   \n",
       "1  @robreiner You really need help. Why are you s...   \n",
       "2  TCS is a proud sponsor of the Oil &amp; Gatsby...   \n",
       "3  Should California tax oil profits? Gas spike h...   \n",
       "4  This is a classic example of Washington corrup...   \n",
       "\n",
       "                                          2022-11-30  \\\n",
       "0  @FinancialReview simply nonsense. Don't let th...   \n",
       "1  @GavinNewsom You could end the gas tax, but yo...   \n",
       "2  @POTUS Gas prices are down only because you ar...   \n",
       "3  https://t.co/HEMuIIrFin Oil “Quality News Link...   \n",
       "4  @SenatorLankford You do know that US is the la...   \n",
       "\n",
       "                                          2022-12-01  \\\n",
       "0  @BBCNews You have a responsibility to explain ...   \n",
       "1                  @Marmee33 https://t.co/MeXmoIOgc9   \n",
       "2  @Sadiksmart7 @mohamedamiin2 @Qatari You can't ...   \n",
       "3  ¡Oil &amp; Gas Reporter está disponible! https...   \n",
       "4  #Gold #Silver and #Crypto update for 12/01/22 ...   \n",
       "\n",
       "                                          2022-12-02  \\\n",
       "0  @GustavoBolivar Es una afrenta para la industr...   \n",
       "1  @JDCocchiarella Jack; I can answer that questi...   \n",
       "2  @diegowainstein El colectivo trucho de feminis...   \n",
       "3  Cut off from Russian gas and oil imports, much...   \n",
       "4  ¡Oil &amp; Gas Reporter está disponible! https...   \n",
       "\n",
       "                                          2022-12-03  \\\n",
       "0  @SenateGOP Except the oil and gas companies do...   \n",
       "1  @GOP And Biden has created more jobs in 2 year...   \n",
       "2  @SandyHasCandy @TomTSEC And somehow, in your b...   \n",
       "3  @MichelleSteelCA If only our idiot Prime Minis...   \n",
       "4  PUMP AMERICAN OIL/NG NOW TO SAVE THE US ECONOM...   \n",
       "\n",
       "                                          2022-12-04  \\\n",
       "0  @BladeoftheS He thinks nurses shouldn’t get a ...   \n",
       "1  @POTUS No thanks on your nuclear energy deal d...   \n",
       "2  @Julesmerch @ABC Has nothing to do with oil, n...   \n",
       "3  ¡Oil &amp; Gas Reporter está disponible! https...   \n",
       "4  Not to be that guy, but, this fossil fuel geop...   \n",
       "\n",
       "                                          2022-12-05  \n",
       "0  Just When We Thought King Coal Was a Pauper\\n#...  \n",
       "1  Alberta officials withholding list of 100s of ...  \n",
       "2  @GavinNewsom Californians are the only state p...  \n",
       "3  Two energy industry groups filed a lawsuit tod...  \n",
       "4  @GavinNewsom It's time for California to stop ...  "
      ]
     },
     "execution_count": 27,
     "metadata": {},
     "output_type": "execute_result"
    }
   ],
   "source": [
    "twitter_df = pd.read_csv(\"tweets_clean.csv\")\n",
    "twitter_df.head()"
   ]
  },
  {
   "cell_type": "code",
   "execution_count": 60,
   "metadata": {},
   "outputs": [
    {
     "data": {
      "text/html": [
       "<div>\n",
       "<style scoped>\n",
       "    .dataframe tbody tr th:only-of-type {\n",
       "        vertical-align: middle;\n",
       "    }\n",
       "\n",
       "    .dataframe tbody tr th {\n",
       "        vertical-align: top;\n",
       "    }\n",
       "\n",
       "    .dataframe thead th {\n",
       "        text-align: right;\n",
       "    }\n",
       "</style>\n",
       "<table border=\"1\" class=\"dataframe\">\n",
       "  <thead>\n",
       "    <tr style=\"text-align: right;\">\n",
       "      <th></th>\n",
       "      <th>Tweet</th>\n",
       "      <th>sentiment</th>\n",
       "    </tr>\n",
       "  </thead>\n",
       "  <tbody>\n",
       "    <tr>\n",
       "      <th>43038</th>\n",
       "      <td>Russian Upstream Oil And Gas Investment Set To...</td>\n",
       "      <td>0.000000</td>\n",
       "    </tr>\n",
       "    <tr>\n",
       "      <th>43039</th>\n",
       "      <td>Mosman Oil &amp;amp; Gas - Director Holdings #MSMN...</td>\n",
       "      <td>0.000000</td>\n",
       "    </tr>\n",
       "    <tr>\n",
       "      <th>43040</th>\n",
       "      <td>@BladeoftheS Tories only worship themselves, m...</td>\n",
       "      <td>-0.058333</td>\n",
       "    </tr>\n",
       "    <tr>\n",
       "      <th>43041</th>\n",
       "      <td>@Ronifae @sullim01 @AIWashburn @MichaelJStern1...</td>\n",
       "      <td>-0.173214</td>\n",
       "    </tr>\n",
       "    <tr>\n",
       "      <th>43042</th>\n",
       "      <td>Libya Oil, Gas and Renewable Energies Expo 202...</td>\n",
       "      <td>0.000000</td>\n",
       "    </tr>\n",
       "  </tbody>\n",
       "</table>\n",
       "</div>"
      ],
      "text/plain": [
       "                                                   Tweet  sentiment\n",
       "43038  Russian Upstream Oil And Gas Investment Set To...   0.000000\n",
       "43039  Mosman Oil &amp; Gas - Director Holdings #MSMN...   0.000000\n",
       "43040  @BladeoftheS Tories only worship themselves, m...  -0.058333\n",
       "43041  @Ronifae @sullim01 @AIWashburn @MichaelJStern1...  -0.173214\n",
       "43042  Libya Oil, Gas and Renewable Energies Expo 202...   0.000000"
      ]
     },
     "execution_count": 60,
     "metadata": {},
     "output_type": "execute_result"
    }
   ],
   "source": [
    "twitter_df.tail()"
   ]
  },
  {
   "cell_type": "code",
   "execution_count": 29,
   "metadata": {},
   "outputs": [],
   "source": [
    "switchbag = twitter_df.values.reshape(43043, 1)\n",
    "twitter_df = pd.DataFrame(switchbag)"
   ]
  },
  {
   "cell_type": "code",
   "execution_count": 62,
   "metadata": {},
   "outputs": [
    {
     "name": "stdout",
     "output_type": "stream",
     "text": [
      "                                                   Tweet  sentiment\n",
      "1      @BellaWallerstei They have been paying oil and...   0.166667\n",
      "2      @TrainerGonzo @Belinda71555585 It's that easy ...   0.296667\n",
      "3      @HouseGOP They tried to stick the gas price hi...  -0.017857\n",
      "4        @GilHough @KamalaHarris https://t.co/LBgWDBW9xs   0.000000\n",
      "5      @ChrisMartzWX For well over 40 years, I have p...   0.071429\n",
      "...                                                  ...        ...\n",
      "43038  Russian Upstream Oil And Gas Investment Set To...   0.000000\n",
      "43039  Mosman Oil &amp; Gas - Director Holdings #MSMN...   0.000000\n",
      "43040  @BladeoftheS Tories only worship themselves, m...  -0.058333\n",
      "43041  @Ronifae @sullim01 @AIWashburn @MichaelJStern1...  -0.173214\n",
      "43042  Libya Oil, Gas and Renewable Energies Expo 202...   0.000000\n",
      "\n",
      "[43042 rows x 2 columns]\n"
     ]
    }
   ],
   "source": [
    "# Adding column name to twitter_df\n",
    "twitter_df.columns = ['Tweet', 'sentiment']\n",
    "print(twitter_df)"
   ]
  },
  {
   "cell_type": "code",
   "execution_count": 64,
   "metadata": {},
   "outputs": [
    {
     "name": "stdout",
     "output_type": "stream",
     "text": [
      "1.0\n"
     ]
    }
   ],
   "source": [
    "# Example with generic data\n",
    "from textblob import TextBlob\n",
    "\n",
    "example = TextBlob(\"The food was great!\")\n",
    "print(example.sentiment.polarity)"
   ]
  },
  {
   "cell_type": "code",
   "execution_count": 65,
   "metadata": {},
   "outputs": [
    {
     "name": "stdout",
     "output_type": "stream",
     "text": [
      "Sentiment(polarity=0.0, subjectivity=0.06666666666666667)\n"
     ]
    }
   ],
   "source": [
    "# Example with actual tweet\n",
    "from textblob import TextBlob\n",
    "\n",
    "example = TextBlob(\"rtr: U.S. seeks to limit flaring and methane leaks from public lands drilling - President Joe Biden's administration on Monday proposed rules aimed at limiting methane leaks from oil and gas drilling on public lands. By @ValerieVolco @nicholagroom https://t.co/Pi6vCf6RyC\")\n",
    "print(example.sentiment)\n"
   ]
  },
  {
   "cell_type": "code",
   "execution_count": 66,
   "metadata": {},
   "outputs": [
    {
     "name": "stdout",
     "output_type": "stream",
     "text": [
      "2        0.0\n",
      "3        0.0\n",
      "4        0.0\n",
      "5        0.0\n",
      "6        0.0\n",
      "        ... \n",
      "43038    0.0\n",
      "43039    0.0\n",
      "43040    0.0\n",
      "43041    0.0\n",
      "43042    0.0\n",
      "Name: sentiment, Length: 43041, dtype: float64\n",
      "2        0.0\n",
      "3        0.0\n",
      "4        0.0\n",
      "5        0.0\n",
      "6        0.0\n",
      "        ... \n",
      "43038    0.0\n",
      "43039    0.0\n",
      "43040    0.0\n",
      "43041    0.0\n",
      "43042    0.0\n",
      "Name: sentiment, Length: 43041, dtype: float64\n"
     ]
    },
    {
     "name": "stderr",
     "output_type": "stream",
     "text": [
      "/var/folders/_j/yd9ttlns727476l3p83m83nr0000gn/T/ipykernel_2397/2004632904.py:3: SettingWithCopyWarning: \n",
      "A value is trying to be set on a copy of a slice from a DataFrame.\n",
      "Try using .loc[row_indexer,col_indexer] = value instead\n",
      "\n",
      "See the caveats in the documentation: https://pandas.pydata.org/pandas-docs/stable/user_guide/indexing.html#returning-a-view-versus-a-copy\n",
      "  twitter_df['sentiment'] = a.sentiment.polarity\n"
     ]
    }
   ],
   "source": [
    "for Tweet in twitter_df.columns:\n",
    "    a = TextBlob(Tweet)\n",
    "    twitter_df['sentiment'] = a.sentiment.polarity\n",
    "    print(twitter_df.sentiment)"
   ]
  },
  {
   "cell_type": "code",
   "execution_count": 67,
   "metadata": {},
   "outputs": [
    {
     "name": "stderr",
     "output_type": "stream",
     "text": [
      "/var/folders/_j/yd9ttlns727476l3p83m83nr0000gn/T/ipykernel_2397/4046580880.py:12: SettingWithCopyWarning: \n",
      "A value is trying to be set on a copy of a slice from a DataFrame.\n",
      "Try using .loc[row_indexer,col_indexer] = value instead\n",
      "\n",
      "See the caveats in the documentation: https://pandas.pydata.org/pandas-docs/stable/user_guide/indexing.html#returning-a-view-versus-a-copy\n",
      "  twitter_df['Tweet'] = twitter_df['Tweet'].apply(any2str)\n",
      "/var/folders/_j/yd9ttlns727476l3p83m83nr0000gn/T/ipykernel_2397/4046580880.py:13: SettingWithCopyWarning: \n",
      "A value is trying to be set on a copy of a slice from a DataFrame.\n",
      "Try using .loc[row_indexer,col_indexer] = value instead\n",
      "\n",
      "See the caveats in the documentation: https://pandas.pydata.org/pandas-docs/stable/user_guide/indexing.html#returning-a-view-versus-a-copy\n",
      "  twitter_df['sentiment'] = twitter_df['Tweet'].apply(get_sentimental)\n"
     ]
    },
    {
     "data": {
      "text/html": [
       "<div>\n",
       "<style scoped>\n",
       "    .dataframe tbody tr th:only-of-type {\n",
       "        vertical-align: middle;\n",
       "    }\n",
       "\n",
       "    .dataframe tbody tr th {\n",
       "        vertical-align: top;\n",
       "    }\n",
       "\n",
       "    .dataframe thead th {\n",
       "        text-align: right;\n",
       "    }\n",
       "</style>\n",
       "<table border=\"1\" class=\"dataframe\">\n",
       "  <thead>\n",
       "    <tr style=\"text-align: right;\">\n",
       "      <th></th>\n",
       "      <th>Tweet</th>\n",
       "      <th>sentiment</th>\n",
       "    </tr>\n",
       "  </thead>\n",
       "  <tbody>\n",
       "    <tr>\n",
       "      <th>2</th>\n",
       "      <td>@TrainerGonzo @Belinda71555585 It's that easy ...</td>\n",
       "      <td>0.296667</td>\n",
       "    </tr>\n",
       "    <tr>\n",
       "      <th>3</th>\n",
       "      <td>@HouseGOP They tried to stick the gas price hi...</td>\n",
       "      <td>-0.017857</td>\n",
       "    </tr>\n",
       "    <tr>\n",
       "      <th>4</th>\n",
       "      <td>@GilHough @KamalaHarris https://t.co/LBgWDBW9xs</td>\n",
       "      <td>0.000000</td>\n",
       "    </tr>\n",
       "    <tr>\n",
       "      <th>5</th>\n",
       "      <td>@ChrisMartzWX For well over 40 years, I have p...</td>\n",
       "      <td>0.071429</td>\n",
       "    </tr>\n",
       "    <tr>\n",
       "      <th>6</th>\n",
       "      <td>@POTUS Except that gas prices were on the rise...</td>\n",
       "      <td>0.000000</td>\n",
       "    </tr>\n",
       "  </tbody>\n",
       "</table>\n",
       "</div>"
      ],
      "text/plain": [
       "                                               Tweet  sentiment\n",
       "2  @TrainerGonzo @Belinda71555585 It's that easy ...   0.296667\n",
       "3  @HouseGOP They tried to stick the gas price hi...  -0.017857\n",
       "4    @GilHough @KamalaHarris https://t.co/LBgWDBW9xs   0.000000\n",
       "5  @ChrisMartzWX For well over 40 years, I have p...   0.071429\n",
       "6  @POTUS Except that gas prices were on the rise...   0.000000"
      ]
     },
     "execution_count": 67,
     "metadata": {},
     "output_type": "execute_result"
    }
   ],
   "source": [
    "# Returning sentiment score of inputted tweet \n",
    "def get_sentimental(target):\n",
    "    return TextBlob(target).sentiment.polarity\n",
    "\n",
    "# Converting all data to strings \n",
    "def any2str(target):\n",
    "    if type(target) is not str:\n",
    "        return str(target)\n",
    "    else:\n",
    "        return target\n",
    "\n",
    "twitter_df['Tweet'] = twitter_df['Tweet'].apply(any2str)\n",
    "twitter_df['sentiment'] = twitter_df['Tweet'].apply(get_sentimental)\n",
    "twitter_df.head()"
   ]
  },
  {
   "cell_type": "code",
   "execution_count": 96,
   "metadata": {},
   "outputs": [
    {
     "data": {
      "image/png": "[encoded data removed]",
      "text/plain": [
       "<Figure size 640x480 with 1 Axes>"
      ]
     },
     "metadata": {},
     "output_type": "display_data"
    }
   ],
   "source": [
    "import matplotlib.pyplot as plt\n",
    "import math \n",
    "import numpy as np\n",
    "import scipy.stats as stats\n",
    "\n",
    "def norm(x_min, x_max, avg, stdev):\n",
    "    x = np.arange(x_min, x_max, 0.01)\n",
    "    coeff = 1/(stdev*math.sqrt(2*math.pi))\n",
    "    expo = -0.5*(((x - avg)/ stdev)**2) \n",
    "    return x, coeff*math.e**expo \n",
    "\n",
    "# Data Vis of Sentiments\n",
    "sents = twitter_df['sentiment'].to_numpy()\n",
    "\n",
    "mu = twitter_df['sentiment'].mean()\n",
    "variance = twitter_df['sentiment'].var()\n",
    "sigma = twitter_df['sentiment'].std()\n",
    "bell_x, bell = norm(twitter_df['sentiment'].min(), twitter_df['sentiment'].max(), mu, sigma)\n",
    "#x = np.linspace(mu - 3*sigma, mu + 3*sigma, 100)\n",
    "\n",
    "plt.hist(sents, color = \"deeppink\")\n",
    "plt.plot(bell_x, bell*(0.55*25000))\n",
    "plt.title(\"Sentiment Analysis Histogram\")\n",
    "plt.xlabel(\"Sentiments of Gas Price Tweets (-1.0 to 1.0)\")\n",
    "plt.ylabel(\"Count\")\n",
    "\n",
    "plt.savefig(\"sentiment_hist.png\")\n",
    "\n",
    "\n",
    "\n"
   ]
  },
  {
   "cell_type": "markdown",
   "metadata": {},
   "source": [
    "### Explanation of Model Choice, including Limitations and Benefits\n",
    "\n",
    "This sentiment analysis NLP model provides a sentiment score for those who tweeted about gas and oil from November 24, 2022 to December 5, 2022. To understand the sentiment of current consumers, current data would need to be added. To include this sentiment analysis in the linear regression machine learning model, we would need more data, organized by month. Due to the limitations of the data and the data preprocessing of the linear regression model, there are only gas and diesel prices by month from January 1995 to January 2021 and February 2022 to December 2022. As a result, adding this sentiment analysis to the other model would only be adding two data points: November and December 2022 tweets.\n",
    "\n",
    "### Train, Test, Split Description\n",
    "Since the tweet data are limited to November and December, they cannot be meaningfully added to the linear regression model, so there is no training set or testing set.\n",
    "\n",
    "### Explanation of Changes in Model Choice & Description of How the Model Has Been Trained Thus Far and Any Additional Training\n",
    "\n",
    "Based on the formatting of the tweets and gas prices, the model went from attempting to predict current sentiment of gas prices to characterizing the sentiment from the last week in November to the first week in December.\n",
    "\n",
    "### Description of Current Accuracy Score\n",
    "Not applicable.\n",
    "\n",
    "### How the Model Addresses the Question/Problem the Team is Solving\n",
    "\n",
    "This sentiment analysis natural language processing model will compliment the linear regression model by showcasing general sentiment about current gas prices from tweets."
   ]
  }
 ],
 "metadata": {
  "kernelspec": {
   "display_name": "Python 3.8.12 ('compsoc')",
   "language": "python",
   "name": "python3"
  },
  "language_info": {
   "codemirror_mode": {
    "name": "ipython",
    "version": 3
   },
   "file_extension": ".py",
   "mimetype": "text/x-python",
   "name": "python",
   "nbconvert_exporter": "python",
   "pygments_lexer": "ipython3",
   "version": "3.8.12"
  },
  "orig_nbformat": 4,
  "vscode": {
   "interpreter": {
    "hash": "00ac8e58fd34d6f88815c9706e59bbba54c9b5305a15e21d31f60207a45715df"
   }
  }
 },
 "nbformat": 4,
 "nbformat_minor": 2
}
